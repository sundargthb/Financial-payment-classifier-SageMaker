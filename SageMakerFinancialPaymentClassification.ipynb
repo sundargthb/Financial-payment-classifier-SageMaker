{
 "cells": [
  {
   "cell_type": "markdown",
   "metadata": {},
   "source": [
    "# SageMaker Payment Classification \n",
    "\n",
    "\n",
    "### 1. Setup <a class=\"anchor\" id=\"Setup\"></a>\n"
   ]
  },
  {
   "cell_type": "code",
   "execution_count": 1,
   "metadata": {},
   "outputs": [],
   "source": [
    "#import sys\n",
    "\n",
    "#!{sys.executable} -m pip install --upgrade pip       --quiet # upgrade pip to the latest vesion\n",
    "#!{sys.executable} -m pip install --upgrade sagemaker --quiet # upgrade SageMaker to the latest vesion"
   ]
  },
  {
   "cell_type": "code",
   "execution_count": 2,
   "metadata": {},
   "outputs": [],
   "source": [
    "import boto3\n",
    "import io\n",
    "import sagemaker\n",
    "import time\n",
    "import os\n",
    "\n",
    "from time import sleep\n",
    "from sklearn.metrics import classification_report\n",
    "from sagemaker.feature_store.feature_group import FeatureGroup\n",
    "\n",
    "import pandas as pd\n",
    "import numpy as np"
   ]
  },
  {
   "cell_type": "code",
   "execution_count": 3,
   "metadata": {},
   "outputs": [],
   "source": [
    "region = sagemaker.Session().boto_region_name\n",
    "sm_client = boto3.client(\"sagemaker\")\n",
    "boto_session = boto3.Session(region_name=region)\n",
    "sagemaker_session = sagemaker.session.Session(boto_session=boto_session, sagemaker_client=sm_client)\n",
    "role = sagemaker.get_execution_role()\n",
    "bucket_prefix = \"payment-classification\"\n",
    "s3_bucket = sagemaker_session.default_bucket()"
   ]
  },
  {
   "cell_type": "markdown",
   "metadata": {},
   "source": [
    "We define the factorize key which is used to map the '__transaction_category__' to numeric values"
   ]
  },
  {
   "cell_type": "code",
   "execution_count": 4,
   "metadata": {},
   "outputs": [],
   "source": [
    "factorize_key = {\n",
    "    \"Uncategorized\": 0,\n",
    "    \"Entertainment\": 1,\n",
    "    \"Education\": 2,\n",
    "    \"Shopping\": 3,\n",
    "    \"Personal Care\": 4,\n",
    "    \"Health and Fitness\": 5,\n",
    "    \"Food and Dining\": 6,\n",
    "    \"Gifts and Donations\": 7,\n",
    "    \"Investments\": 8,\n",
    "    \"Bills and Utilities\": 9,\n",
    "    \"Auto and Transport\": 10,\n",
    "    \"Travel\": 11,\n",
    "    \"Fees and Charges\": 12,\n",
    "    \"Business Services\": 13,\n",
    "    \"Personal Services\": 14,\n",
    "    \"Taxes\": 15,\n",
    "    \"Gambling\": 16,\n",
    "    \"Home\": 17,\n",
    "    \"Pension and insurances\": 18,\n",
    "}"
   ]
  },
  {
   "cell_type": "markdown",
   "metadata": {},
   "source": [
    "### 2. Data preparation <a class=\"anchor\" id=\"Data-preparation\"></a>\n",
    "\n",
    "We ingest the simulated data from the public SageMaker S3 training database:"
   ]
  },
  {
   "cell_type": "code",
   "execution_count": 5,
   "metadata": {},
   "outputs": [
    {
     "name": "stdout",
     "output_type": "stream",
     "text": [
      "download: s3://sagemaker-sample-files/datasets/tabular/synthetic_financial/financial_transactions_mini.csv to ./financial_transactions_mini.csv\n"
     ]
    }
   ],
   "source": [
    "!aws s3 cp s3://sagemaker-sample-files/datasets/tabular/synthetic_financial/financial_transactions_mini.csv ."
   ]
  },
  {
   "cell_type": "markdown",
   "metadata": {},
   "source": [
    "Let's start by loading the dataset from our csv file into a Pandas dataframe"
   ]
  },
  {
   "cell_type": "code",
   "execution_count": 6,
   "metadata": {},
   "outputs": [],
   "source": [
    "data = pd.read_csv(\n",
    "    \"financial_transactions_mini.csv\",\n",
    "    parse_dates=[\"timestamp\"],\n",
    "    infer_datetime_format=True,\n",
    "    dtype={\"transaction_category\": \"string\"},\n",
    ")"
   ]
  },
  {
   "cell_type": "markdown",
   "metadata": {},
   "source": [
    "The dataframe looks as follows:\n",
    "\n",
    "| | transaction_category | receiver_id | sender_id | amount | timestamp |\n",
    "|------:|:-----------------------|-----------------:|-----------------:|---------:|:--------------------|\n",
    "| 39733 | Shopping | 4258863736072564 | 4630246970548037 | 91.58 | 2021-03-10 01:28:23 |\n",
    "| 27254 | Shopping | 4356269497886716 | 4752313573239323 | 115.17 | 2021-01-22 23:28:24 |\n",
    "| 30628 | Shopping | 4233636409552058 | 4635766441812956 | 90.98 | 2021-02-05 03:24:10 |\n",
    "| 46614 | Shopping | 4054967431278644 | 4823810986511227 | 86.74 | 2021-04-02 14:42:45 |\n",
    "| 37957 | Shopping | 4831814582525664 | 4254514582909482 | 123.27 | 2021-03-17 11:17:18 |\n",
    "| 46878 | Shopping | 4425943481448900 | 4349267977109013 | 65.53 | 2021-03-17 15:47:49 |\n",
    "| 81350 | Auto and Transport | 4146116413442105 | 4062723166078919 | 91.67 | 2021-03-29 13:23:44 |\n",
    "| 10613 | Entertainment | 4788727923958282 | 4485838385631386 | 76.22 | 2021-02-11 17:45:53 |\n",
    "| 46715 | Shopping | 4702782703461430 | 4944181591271506 | 86.67 | 2021-03-20 15:37:17 |\n",
    "| 69110 | Investments | 4180233446952120 | 4702069426390603 | 530.39 | 2021-04-21 08:28:13 |"
   ]
  },
  {
   "cell_type": "code",
   "execution_count": 7,
   "metadata": {},
   "outputs": [
    {
     "data": {
      "text/html": [
       "<div>\n",
       "<style scoped>\n",
       "    .dataframe tbody tr th:only-of-type {\n",
       "        vertical-align: middle;\n",
       "    }\n",
       "\n",
       "    .dataframe tbody tr th {\n",
       "        vertical-align: top;\n",
       "    }\n",
       "\n",
       "    .dataframe thead th {\n",
       "        text-align: right;\n",
       "    }\n",
       "</style>\n",
       "<table border=\"1\" class=\"dataframe\">\n",
       "  <thead>\n",
       "    <tr style=\"text-align: right;\">\n",
       "      <th></th>\n",
       "      <th>transaction_category</th>\n",
       "      <th>receiver_id</th>\n",
       "      <th>sender_id</th>\n",
       "      <th>amount</th>\n",
       "      <th>timestamp</th>\n",
       "    </tr>\n",
       "  </thead>\n",
       "  <tbody>\n",
       "    <tr>\n",
       "      <th>46278</th>\n",
       "      <td>Shopping</td>\n",
       "      <td>4731292609202362</td>\n",
       "      <td>4672555770541581</td>\n",
       "      <td>66.25</td>\n",
       "      <td>2021-04-03 19:26:45</td>\n",
       "    </tr>\n",
       "    <tr>\n",
       "      <th>20594</th>\n",
       "      <td>Shopping</td>\n",
       "      <td>4737643537570227</td>\n",
       "      <td>4214145129441298</td>\n",
       "      <td>85.52</td>\n",
       "      <td>2021-02-26 14:02:10</td>\n",
       "    </tr>\n",
       "    <tr>\n",
       "      <th>48917</th>\n",
       "      <td>Shopping</td>\n",
       "      <td>4267960178972308</td>\n",
       "      <td>4112752513516164</td>\n",
       "      <td>87.78</td>\n",
       "      <td>2021-04-11 13:23:25</td>\n",
       "    </tr>\n",
       "    <tr>\n",
       "      <th>57356</th>\n",
       "      <td>Food and Dining</td>\n",
       "      <td>4989217930879371</td>\n",
       "      <td>4657405327740212</td>\n",
       "      <td>65.26</td>\n",
       "      <td>2021-01-29 16:07:13</td>\n",
       "    </tr>\n",
       "    <tr>\n",
       "      <th>20085</th>\n",
       "      <td>Shopping</td>\n",
       "      <td>4399267668778422</td>\n",
       "      <td>4205530797082881</td>\n",
       "      <td>62.05</td>\n",
       "      <td>2021-01-04 21:49:19</td>\n",
       "    </tr>\n",
       "    <tr>\n",
       "      <th>52102</th>\n",
       "      <td>Health and Fitness</td>\n",
       "      <td>4418563900622718</td>\n",
       "      <td>4179877536691817</td>\n",
       "      <td>88.03</td>\n",
       "      <td>2021-02-12 18:22:04</td>\n",
       "    </tr>\n",
       "    <tr>\n",
       "      <th>89207</th>\n",
       "      <td>Auto and Transport</td>\n",
       "      <td>4241319998581099</td>\n",
       "      <td>4663876677020334</td>\n",
       "      <td>109.34</td>\n",
       "      <td>2021-02-19 18:41:17</td>\n",
       "    </tr>\n",
       "    <tr>\n",
       "      <th>5206</th>\n",
       "      <td>Entertainment</td>\n",
       "      <td>4741183460284839</td>\n",
       "      <td>4969803101503108</td>\n",
       "      <td>77.14</td>\n",
       "      <td>2021-02-26 16:41:46</td>\n",
       "    </tr>\n",
       "    <tr>\n",
       "      <th>72642</th>\n",
       "      <td>Auto and Transport</td>\n",
       "      <td>4699729158312266</td>\n",
       "      <td>4430535174050598</td>\n",
       "      <td>153.53</td>\n",
       "      <td>2021-03-12 19:04:08</td>\n",
       "    </tr>\n",
       "    <tr>\n",
       "      <th>14392</th>\n",
       "      <td>Entertainment</td>\n",
       "      <td>4285140543694436</td>\n",
       "      <td>4747093946612665</td>\n",
       "      <td>14.66</td>\n",
       "      <td>2021-02-14 18:33:09</td>\n",
       "    </tr>\n",
       "  </tbody>\n",
       "</table>\n",
       "</div>"
      ],
      "text/plain": [
       "      transaction_category       receiver_id         sender_id  amount  \\\n",
       "46278             Shopping  4731292609202362  4672555770541581   66.25   \n",
       "20594             Shopping  4737643537570227  4214145129441298   85.52   \n",
       "48917             Shopping  4267960178972308  4112752513516164   87.78   \n",
       "57356      Food and Dining  4989217930879371  4657405327740212   65.26   \n",
       "20085             Shopping  4399267668778422  4205530797082881   62.05   \n",
       "52102   Health and Fitness  4418563900622718  4179877536691817   88.03   \n",
       "89207   Auto and Transport  4241319998581099  4663876677020334  109.34   \n",
       "5206         Entertainment  4741183460284839  4969803101503108   77.14   \n",
       "72642   Auto and Transport  4699729158312266  4430535174050598  153.53   \n",
       "14392        Entertainment  4285140543694436  4747093946612665   14.66   \n",
       "\n",
       "                timestamp  \n",
       "46278 2021-04-03 19:26:45  \n",
       "20594 2021-02-26 14:02:10  \n",
       "48917 2021-04-11 13:23:25  \n",
       "57356 2021-01-29 16:07:13  \n",
       "20085 2021-01-04 21:49:19  \n",
       "52102 2021-02-12 18:22:04  \n",
       "89207 2021-02-19 18:41:17  \n",
       "5206  2021-02-26 16:41:46  \n",
       "72642 2021-03-12 19:04:08  \n",
       "14392 2021-02-14 18:33:09  "
      ]
     },
     "execution_count": 7,
     "metadata": {},
     "output_type": "execute_result"
    }
   ],
   "source": [
    "data.sample(10)"
   ]
  },
  {
   "cell_type": "markdown",
   "metadata": {},
   "source": [
    "Next, we extract the year, month, day, hour, minute, second from the timestamp and remove the timestamp"
   ]
  },
  {
   "cell_type": "code",
   "execution_count": 8,
   "metadata": {},
   "outputs": [],
   "source": [
    "data[\"year\"] = data[\"timestamp\"].dt.year\n",
    "data[\"month\"] = data[\"timestamp\"].dt.month\n",
    "data[\"day\"] = data[\"timestamp\"].dt.day\n",
    "data[\"hour\"] = data[\"timestamp\"].dt.hour\n",
    "data[\"minute\"] = data[\"timestamp\"].dt.minute\n",
    "data[\"second\"] = data[\"timestamp\"].dt.second\n",
    "\n",
    "del data[\"timestamp\"]"
   ]
  },
  {
   "cell_type": "markdown",
   "metadata": {},
   "source": [
    "We'll transform the transaction categories to numeric targets for the classification by factorization."
   ]
  },
  {
   "cell_type": "code",
   "execution_count": 9,
   "metadata": {},
   "outputs": [],
   "source": [
    "data[\"transaction_category\"] = data[\"transaction_category\"].replace(factorize_key)"
   ]
  },
  {
   "cell_type": "markdown",
   "metadata": {},
   "source": [
    "### 3. Create feature store <a class=\"anchor\" id=\"Create-feature-store\"></a>\n",
    "\n",
    "To enrich dataset we will use the [Feature Store](https://aws.amazon.com/sagemaker/feature-store/). "
   ]
  },
  {
   "cell_type": "markdown",
   "metadata": {},
   "source": [
    "Before creating the feature store itself we need to set a name for the feature group and identifier used"
   ]
  },
  {
   "cell_type": "code",
   "execution_count": 10,
   "metadata": {},
   "outputs": [],
   "source": [
    "feature_group_name = \"feature-group-payment-classification\"\n",
    "record_identifier_feature_name = \"identifier\""
   ]
  },
  {
   "cell_type": "markdown",
   "metadata": {},
   "source": [
    "With the name we defined we create the feature group, runtime and session"
   ]
  },
  {
   "cell_type": "code",
   "execution_count": 11,
   "metadata": {},
   "outputs": [],
   "source": [
    "feature_group = FeatureGroup(name=feature_group_name, sagemaker_session=sagemaker_session)\n",
    "\n",
    "featurestore_runtime = boto_session.client(\n",
    "    service_name=\"sagemaker-featurestore-runtime\", region_name=region\n",
    ")\n",
    "\n",
    "feature_store_session = sagemaker.Session(\n",
    "    boto_session=boto_session,\n",
    "    sagemaker_client=sm_client,\n",
    "    sagemaker_featurestore_runtime_client=featurestore_runtime,\n",
    ")"
   ]
  },
  {
   "cell_type": "markdown",
   "metadata": {},
   "source": [
    "Once we have defined our feature store we need to put some data in it. We create a Pandas dataframe with the columns mean_amount, count, identifier and event time to store in the feature store"
   ]
  },
  {
   "cell_type": "code",
   "execution_count": 12,
   "metadata": {},
   "outputs": [],
   "source": [
    "columns = [\"mean_amount\", \"count\", \"identifier\", \"EventTime\"]\n",
    "feature_store_data = pd.DataFrame(columns=columns, dtype=object)\n",
    "\n",
    "feature_store_data[\"identifier\"] = range(19)\n",
    "feature_store_data[\"mean_amount\"] = 0.0\n",
    "feature_store_data[\"count\"] = 1\n",
    "feature_store_data[\"EventTime\"] = time.time()"
   ]
  },
  {
   "cell_type": "markdown",
   "metadata": {},
   "source": [
    "Using the created dataframe we set the feature definitions"
   ]
  },
  {
   "cell_type": "code",
   "execution_count": 13,
   "metadata": {},
   "outputs": [
    {
     "data": {
      "text/plain": [
       "[FeatureDefinition(feature_name='mean_amount', feature_type=<FeatureTypeEnum.FRACTIONAL: 'Fractional'>),\n",
       " FeatureDefinition(feature_name='count', feature_type=<FeatureTypeEnum.INTEGRAL: 'Integral'>),\n",
       " FeatureDefinition(feature_name='identifier', feature_type=<FeatureTypeEnum.INTEGRAL: 'Integral'>),\n",
       " FeatureDefinition(feature_name='EventTime', feature_type=<FeatureTypeEnum.FRACTIONAL: 'Fractional'>)]"
      ]
     },
     "execution_count": 13,
     "metadata": {},
     "output_type": "execute_result"
    }
   ],
   "source": [
    "feature_group.load_feature_definitions(data_frame=feature_store_data)"
   ]
  },
  {
   "cell_type": "markdown",
   "metadata": {},
   "source": [
    "With these definitions ready we can create the feature group itself"
   ]
  },
  {
   "cell_type": "code",
   "execution_count": 14,
   "metadata": {},
   "outputs": [
    {
     "data": {
      "text/plain": [
       "{'FeatureGroupArn': 'arn:aws:sagemaker:us-east-1:623849366717:feature-group/feature-group-payment-classification',\n",
       " 'ResponseMetadata': {'RequestId': 'bdab5ed1-4bfb-413b-89e4-702d95125c32',\n",
       "  'HTTPStatusCode': 200,\n",
       "  'HTTPHeaders': {'x-amzn-requestid': 'bdab5ed1-4bfb-413b-89e4-702d95125c32',\n",
       "   'content-type': 'application/x-amz-json-1.1',\n",
       "   'content-length': '113',\n",
       "   'date': 'Tue, 15 Mar 2022 03:03:09 GMT'},\n",
       "  'RetryAttempts': 0}}"
      ]
     },
     "execution_count": 14,
     "metadata": {},
     "output_type": "execute_result"
    }
   ],
   "source": [
    "feature_group.create(\n",
    "    s3_uri=f\"s3://{s3_bucket}/{bucket_prefix}\",\n",
    "    record_identifier_name=record_identifier_feature_name,\n",
    "    event_time_feature_name=\"EventTime\",\n",
    "    role_arn=role,\n",
    "    enable_online_store=True,\n",
    ")"
   ]
  },
  {
   "cell_type": "markdown",
   "metadata": {},
   "source": [
    "It takes a couple of minutes for the feature group to be created, we need to wait for this to be done before trying to ingest data in the feature store"
   ]
  },
  {
   "cell_type": "code",
   "execution_count": 15,
   "metadata": {},
   "outputs": [
    {
     "name": "stdout",
     "output_type": "stream",
     "text": [
      "Waiting for Feature Group to be Created\n",
      "Waiting for Feature Group to be Created\n",
      "Waiting for Feature Group to be Created\n",
      "Waiting for Feature Group to be Created\n",
      "FeatureGroup feature-group-payment-classification successfully created.\n"
     ]
    }
   ],
   "source": [
    "status = feature_group.describe().get(\"FeatureGroupStatus\")\n",
    "while status == \"Creating\":\n",
    "    print(\"Waiting for Feature Group to be Created\")\n",
    "    time.sleep(5)\n",
    "    status = feature_group.describe().get(\"FeatureGroupStatus\")\n",
    "print(f\"FeatureGroup {feature_group.name} successfully created.\")"
   ]
  },
  {
   "cell_type": "markdown",
   "metadata": {},
   "source": [
    "Once the feature group is created we can ingest data into it"
   ]
  },
  {
   "cell_type": "code",
   "execution_count": 16,
   "metadata": {},
   "outputs": [
    {
     "data": {
      "text/plain": [
       "IngestionManagerPandas(feature_group_name='feature-group-payment-classification', sagemaker_fs_runtime_client_config=<botocore.config.Config object at 0x7fdfc486ba58>, max_workers=3, max_processes=1, profile_name=None, _async_result=<multiprocess.pool.MapResult object at 0x7fdfc5e572b0>, _processing_pool=<pool ProcessPool(ncpus=1)>, _failed_indices=[])"
      ]
     },
     "execution_count": 16,
     "metadata": {},
     "output_type": "execute_result"
    }
   ],
   "source": [
    "feature_group.ingest(data_frame=feature_store_data, max_workers=3, wait=True)"
   ]
  },
  {
   "cell_type": "markdown",
   "metadata": {},
   "source": [
    "To retrieve data from our feature store we define a function that gets the current values from the feature store"
   ]
  },
  {
   "cell_type": "code",
   "execution_count": 17,
   "metadata": {},
   "outputs": [],
   "source": [
    "def get_feature_store_values():\n",
    "    response = featurestore_runtime.batch_get_record(\n",
    "        Identifiers=[\n",
    "            {\n",
    "                \"FeatureGroupName\": feature_group_name,\n",
    "                \"RecordIdentifiersValueAsString\": [str(i) for i in range(19)],\n",
    "            }\n",
    "        ]\n",
    "    )\n",
    "\n",
    "    columns = [\"mean_amount\", \"count\", \"identifier\", \"EventTime\"]\n",
    "\n",
    "    feature_store_resp = pd.DataFrame(\n",
    "        data=[\n",
    "            [resp[\"Record\"][i][\"ValueAsString\"] for i in range(len(columns))]\n",
    "            for resp in response[\"Records\"]\n",
    "        ],\n",
    "        columns=columns,\n",
    "    )\n",
    "    feature_store_resp[\"identifier\"] = feature_store_resp[\"identifier\"].astype(int)\n",
    "    feature_store_resp[\"count\"] = feature_store_resp[\"count\"].astype(int)\n",
    "    feature_store_resp[\"mean_amount\"] = feature_store_resp[\"mean_amount\"].astype(float)\n",
    "    feature_store_resp[\"EventTime\"] = feature_store_resp[\"EventTime\"].astype(float)\n",
    "    feature_store_resp = feature_store_resp.sort_values(by=\"identifier\")\n",
    "\n",
    "    return feature_store_resp\n",
    "\n",
    "\n",
    "feature_store_resp = get_feature_store_values()"
   ]
  },
  {
   "cell_type": "markdown",
   "metadata": {},
   "source": [
    "We update the values in the feature store with the real values of our data"
   ]
  },
  {
   "cell_type": "code",
   "execution_count": 18,
   "metadata": {},
   "outputs": [
    {
     "data": {
      "text/plain": [
       "IngestionManagerPandas(feature_group_name='feature-group-payment-classification', sagemaker_fs_runtime_client_config=<botocore.config.Config object at 0x7fdfc486ba58>, max_workers=3, max_processes=1, profile_name=None, _async_result=<multiprocess.pool.MapResult object at 0x7fdfc556cfd0>, _processing_pool=<pool ProcessPool(ncpus=1)>, _failed_indices=[])"
      ]
     },
     "execution_count": 18,
     "metadata": {},
     "output_type": "execute_result"
    }
   ],
   "source": [
    "feature_store_data = pd.DataFrame()\n",
    "feature_store_data[\"mean_amount\"] = data.groupby([\"transaction_category\"]).mean()[\"amount\"]\n",
    "feature_store_data[\"count\"] = data.groupby([\"transaction_category\"]).count()[\"amount\"]\n",
    "feature_store_data[\"identifier\"] = feature_store_data.index\n",
    "feature_store_data[\"EventTime\"] = time.time()\n",
    "\n",
    "feature_store_data[\"mean_amount\"] = (\n",
    "    pd.concat([feature_store_resp, feature_store_data])\n",
    "    .groupby(\"identifier\")\n",
    "    .apply(lambda x: np.average(x[\"mean_amount\"], weights=x[\"count\"]))\n",
    ")\n",
    "feature_store_data[\"count\"] = (\n",
    "    pd.concat([feature_store_resp, feature_store_data]).groupby(\"identifier\").sum()[\"count\"]\n",
    ")\n",
    "\n",
    "feature_group.ingest(data_frame=feature_store_data, max_workers=3, wait=True)"
   ]
  },
  {
   "cell_type": "markdown",
   "metadata": {},
   "source": [
    "And display them after getting them from the feature store"
   ]
  },
  {
   "cell_type": "code",
   "execution_count": 19,
   "metadata": {},
   "outputs": [
    {
     "data": {
      "text/html": [
       "<div>\n",
       "<style scoped>\n",
       "    .dataframe tbody tr th:only-of-type {\n",
       "        vertical-align: middle;\n",
       "    }\n",
       "\n",
       "    .dataframe tbody tr th {\n",
       "        vertical-align: top;\n",
       "    }\n",
       "\n",
       "    .dataframe thead th {\n",
       "        text-align: right;\n",
       "    }\n",
       "</style>\n",
       "<table border=\"1\" class=\"dataframe\">\n",
       "  <thead>\n",
       "    <tr style=\"text-align: right;\">\n",
       "      <th></th>\n",
       "      <th>mean_amount</th>\n",
       "      <th>count</th>\n",
       "      <th>identifier</th>\n",
       "      <th>EventTime</th>\n",
       "    </tr>\n",
       "  </thead>\n",
       "  <tbody>\n",
       "    <tr>\n",
       "      <th>2</th>\n",
       "      <td>494.773326</td>\n",
       "      <td>466</td>\n",
       "      <td>0</td>\n",
       "      <td>1.647313e+09</td>\n",
       "    </tr>\n",
       "    <tr>\n",
       "      <th>15</th>\n",
       "      <td>51.205853</td>\n",
       "      <td>14513</td>\n",
       "      <td>1</td>\n",
       "      <td>1.647313e+09</td>\n",
       "    </tr>\n",
       "    <tr>\n",
       "      <th>11</th>\n",
       "      <td>850.011007</td>\n",
       "      <td>745</td>\n",
       "      <td>2</td>\n",
       "      <td>1.647313e+09</td>\n",
       "    </tr>\n",
       "    <tr>\n",
       "      <th>14</th>\n",
       "      <td>100.914531</td>\n",
       "      <td>33954</td>\n",
       "      <td>3</td>\n",
       "      <td>1.647313e+09</td>\n",
       "    </tr>\n",
       "    <tr>\n",
       "      <th>5</th>\n",
       "      <td>31.478000</td>\n",
       "      <td>1210</td>\n",
       "      <td>4</td>\n",
       "      <td>1.647313e+09</td>\n",
       "    </tr>\n",
       "    <tr>\n",
       "      <th>8</th>\n",
       "      <td>119.571685</td>\n",
       "      <td>4838</td>\n",
       "      <td>5</td>\n",
       "      <td>1.647313e+09</td>\n",
       "    </tr>\n",
       "    <tr>\n",
       "      <th>4</th>\n",
       "      <td>93.239755</td>\n",
       "      <td>9675</td>\n",
       "      <td>6</td>\n",
       "      <td>1.647313e+09</td>\n",
       "    </tr>\n",
       "    <tr>\n",
       "      <th>16</th>\n",
       "      <td>51.054155</td>\n",
       "      <td>2792</td>\n",
       "      <td>7</td>\n",
       "      <td>1.647313e+09</td>\n",
       "    </tr>\n",
       "    <tr>\n",
       "      <th>17</th>\n",
       "      <td>6018.076434</td>\n",
       "      <td>931</td>\n",
       "      <td>8</td>\n",
       "      <td>1.647313e+09</td>\n",
       "    </tr>\n",
       "    <tr>\n",
       "      <th>10</th>\n",
       "      <td>114.745296</td>\n",
       "      <td>3350</td>\n",
       "      <td>9</td>\n",
       "      <td>1.647313e+09</td>\n",
       "    </tr>\n",
       "    <tr>\n",
       "      <th>7</th>\n",
       "      <td>100.971891</td>\n",
       "      <td>19350</td>\n",
       "      <td>10</td>\n",
       "      <td>1.647313e+09</td>\n",
       "    </tr>\n",
       "    <tr>\n",
       "      <th>9</th>\n",
       "      <td>351.537590</td>\n",
       "      <td>1303</td>\n",
       "      <td>11</td>\n",
       "      <td>1.647313e+09</td>\n",
       "    </tr>\n",
       "    <tr>\n",
       "      <th>0</th>\n",
       "      <td>26.921611</td>\n",
       "      <td>931</td>\n",
       "      <td>12</td>\n",
       "      <td>1.647313e+09</td>\n",
       "    </tr>\n",
       "    <tr>\n",
       "      <th>3</th>\n",
       "      <td>204.592536</td>\n",
       "      <td>1396</td>\n",
       "      <td>13</td>\n",
       "      <td>1.647313e+09</td>\n",
       "    </tr>\n",
       "    <tr>\n",
       "      <th>18</th>\n",
       "      <td>496.232503</td>\n",
       "      <td>931</td>\n",
       "      <td>14</td>\n",
       "      <td>1.647313e+09</td>\n",
       "    </tr>\n",
       "    <tr>\n",
       "      <th>12</th>\n",
       "      <td>2907.420730</td>\n",
       "      <td>466</td>\n",
       "      <td>15</td>\n",
       "      <td>1.647313e+09</td>\n",
       "    </tr>\n",
       "    <tr>\n",
       "      <th>13</th>\n",
       "      <td>373.222299</td>\n",
       "      <td>187</td>\n",
       "      <td>16</td>\n",
       "      <td>1.647313e+09</td>\n",
       "    </tr>\n",
       "    <tr>\n",
       "      <th>6</th>\n",
       "      <td>780.972321</td>\n",
       "      <td>1861</td>\n",
       "      <td>17</td>\n",
       "      <td>1.647313e+09</td>\n",
       "    </tr>\n",
       "    <tr>\n",
       "      <th>1</th>\n",
       "      <td>205.273214</td>\n",
       "      <td>1117</td>\n",
       "      <td>18</td>\n",
       "      <td>1.647313e+09</td>\n",
       "    </tr>\n",
       "  </tbody>\n",
       "</table>\n",
       "</div>"
      ],
      "text/plain": [
       "    mean_amount  count  identifier     EventTime\n",
       "2    494.773326    466           0  1.647313e+09\n",
       "15    51.205853  14513           1  1.647313e+09\n",
       "11   850.011007    745           2  1.647313e+09\n",
       "14   100.914531  33954           3  1.647313e+09\n",
       "5     31.478000   1210           4  1.647313e+09\n",
       "8    119.571685   4838           5  1.647313e+09\n",
       "4     93.239755   9675           6  1.647313e+09\n",
       "16    51.054155   2792           7  1.647313e+09\n",
       "17  6018.076434    931           8  1.647313e+09\n",
       "10   114.745296   3350           9  1.647313e+09\n",
       "7    100.971891  19350          10  1.647313e+09\n",
       "9    351.537590   1303          11  1.647313e+09\n",
       "0     26.921611    931          12  1.647313e+09\n",
       "3    204.592536   1396          13  1.647313e+09\n",
       "18   496.232503    931          14  1.647313e+09\n",
       "12  2907.420730    466          15  1.647313e+09\n",
       "13   373.222299    187          16  1.647313e+09\n",
       "6    780.972321   1861          17  1.647313e+09\n",
       "1    205.273214   1117          18  1.647313e+09"
      ]
     },
     "execution_count": 19,
     "metadata": {},
     "output_type": "execute_result"
    }
   ],
   "source": [
    "feature_store_data = get_feature_store_values()\n",
    "feature_store_data"
   ]
  },
  {
   "cell_type": "markdown",
   "metadata": {},
   "source": [
    "We use the feature store to calculate the distance between the average of every category and the current amount"
   ]
  },
  {
   "cell_type": "code",
   "execution_count": 20,
   "metadata": {},
   "outputs": [
    {
     "data": {
      "text/html": [
       "<div>\n",
       "<style scoped>\n",
       "    .dataframe tbody tr th:only-of-type {\n",
       "        vertical-align: middle;\n",
       "    }\n",
       "\n",
       "    .dataframe tbody tr th {\n",
       "        vertical-align: top;\n",
       "    }\n",
       "\n",
       "    .dataframe thead th {\n",
       "        text-align: right;\n",
       "    }\n",
       "</style>\n",
       "<table border=\"1\" class=\"dataframe\">\n",
       "  <thead>\n",
       "    <tr style=\"text-align: right;\">\n",
       "      <th></th>\n",
       "      <th>transaction_category</th>\n",
       "      <th>receiver_id</th>\n",
       "      <th>sender_id</th>\n",
       "      <th>amount</th>\n",
       "      <th>year</th>\n",
       "      <th>month</th>\n",
       "      <th>day</th>\n",
       "      <th>hour</th>\n",
       "      <th>minute</th>\n",
       "      <th>second</th>\n",
       "      <th>...</th>\n",
       "      <th>9_dist</th>\n",
       "      <th>10_dist</th>\n",
       "      <th>11_dist</th>\n",
       "      <th>12_dist</th>\n",
       "      <th>13_dist</th>\n",
       "      <th>14_dist</th>\n",
       "      <th>15_dist</th>\n",
       "      <th>16_dist</th>\n",
       "      <th>17_dist</th>\n",
       "      <th>18_dist</th>\n",
       "    </tr>\n",
       "  </thead>\n",
       "  <tbody>\n",
       "    <tr>\n",
       "      <th>0</th>\n",
       "      <td>0.0</td>\n",
       "      <td>4.518552e+15</td>\n",
       "      <td>4.333582e+15</td>\n",
       "      <td>833.26</td>\n",
       "      <td>2021.0</td>\n",
       "      <td>3.0</td>\n",
       "      <td>10.0</td>\n",
       "      <td>19.0</td>\n",
       "      <td>57.0</td>\n",
       "      <td>42.0</td>\n",
       "      <td>...</td>\n",
       "      <td>718.514704</td>\n",
       "      <td>732.288109</td>\n",
       "      <td>481.72241</td>\n",
       "      <td>806.338389</td>\n",
       "      <td>628.667464</td>\n",
       "      <td>337.027497</td>\n",
       "      <td>2074.16073</td>\n",
       "      <td>460.037701</td>\n",
       "      <td>52.287679</td>\n",
       "      <td>627.986786</td>\n",
       "    </tr>\n",
       "    <tr>\n",
       "      <th>1</th>\n",
       "      <td>0.0</td>\n",
       "      <td>4.518552e+15</td>\n",
       "      <td>4.642413e+15</td>\n",
       "      <td>596.63</td>\n",
       "      <td>2021.0</td>\n",
       "      <td>2.0</td>\n",
       "      <td>11.0</td>\n",
       "      <td>17.0</td>\n",
       "      <td>53.0</td>\n",
       "      <td>32.0</td>\n",
       "      <td>...</td>\n",
       "      <td>481.884704</td>\n",
       "      <td>495.658109</td>\n",
       "      <td>245.09241</td>\n",
       "      <td>569.708389</td>\n",
       "      <td>392.037464</td>\n",
       "      <td>100.397497</td>\n",
       "      <td>2310.79073</td>\n",
       "      <td>223.407701</td>\n",
       "      <td>184.342321</td>\n",
       "      <td>391.356786</td>\n",
       "    </tr>\n",
       "    <tr>\n",
       "      <th>2</th>\n",
       "      <td>0.0</td>\n",
       "      <td>4.274544e+15</td>\n",
       "      <td>4.952666e+15</td>\n",
       "      <td>176.76</td>\n",
       "      <td>2021.0</td>\n",
       "      <td>2.0</td>\n",
       "      <td>21.0</td>\n",
       "      <td>18.0</td>\n",
       "      <td>29.0</td>\n",
       "      <td>32.0</td>\n",
       "      <td>...</td>\n",
       "      <td>62.014704</td>\n",
       "      <td>75.788109</td>\n",
       "      <td>174.77759</td>\n",
       "      <td>149.838389</td>\n",
       "      <td>27.832536</td>\n",
       "      <td>319.472503</td>\n",
       "      <td>2730.66073</td>\n",
       "      <td>196.462299</td>\n",
       "      <td>604.212321</td>\n",
       "      <td>28.513214</td>\n",
       "    </tr>\n",
       "    <tr>\n",
       "      <th>3</th>\n",
       "      <td>0.0</td>\n",
       "      <td>4.518552e+15</td>\n",
       "      <td>4.457299e+15</td>\n",
       "      <td>879.78</td>\n",
       "      <td>2021.0</td>\n",
       "      <td>4.0</td>\n",
       "      <td>9.0</td>\n",
       "      <td>16.0</td>\n",
       "      <td>14.0</td>\n",
       "      <td>19.0</td>\n",
       "      <td>...</td>\n",
       "      <td>765.034704</td>\n",
       "      <td>778.808109</td>\n",
       "      <td>528.24241</td>\n",
       "      <td>852.858389</td>\n",
       "      <td>675.187464</td>\n",
       "      <td>383.547497</td>\n",
       "      <td>2027.64073</td>\n",
       "      <td>506.557701</td>\n",
       "      <td>98.807679</td>\n",
       "      <td>674.506786</td>\n",
       "    </tr>\n",
       "    <tr>\n",
       "      <th>4</th>\n",
       "      <td>0.0</td>\n",
       "      <td>4.601853e+15</td>\n",
       "      <td>4.578126e+15</td>\n",
       "      <td>742.25</td>\n",
       "      <td>2021.0</td>\n",
       "      <td>4.0</td>\n",
       "      <td>4.0</td>\n",
       "      <td>15.0</td>\n",
       "      <td>50.0</td>\n",
       "      <td>16.0</td>\n",
       "      <td>...</td>\n",
       "      <td>627.504704</td>\n",
       "      <td>641.278109</td>\n",
       "      <td>390.71241</td>\n",
       "      <td>715.328389</td>\n",
       "      <td>537.657464</td>\n",
       "      <td>246.017497</td>\n",
       "      <td>2165.17073</td>\n",
       "      <td>369.027701</td>\n",
       "      <td>38.722321</td>\n",
       "      <td>536.976786</td>\n",
       "    </tr>\n",
       "    <tr>\n",
       "      <th>...</th>\n",
       "      <td>...</td>\n",
       "      <td>...</td>\n",
       "      <td>...</td>\n",
       "      <td>...</td>\n",
       "      <td>...</td>\n",
       "      <td>...</td>\n",
       "      <td>...</td>\n",
       "      <td>...</td>\n",
       "      <td>...</td>\n",
       "      <td>...</td>\n",
       "      <td>...</td>\n",
       "      <td>...</td>\n",
       "      <td>...</td>\n",
       "      <td>...</td>\n",
       "      <td>...</td>\n",
       "      <td>...</td>\n",
       "      <td>...</td>\n",
       "      <td>...</td>\n",
       "      <td>...</td>\n",
       "      <td>...</td>\n",
       "      <td>...</td>\n",
       "    </tr>\n",
       "    <tr>\n",
       "      <th>99992</th>\n",
       "      <td>18.0</td>\n",
       "      <td>4.405008e+15</td>\n",
       "      <td>4.583356e+15</td>\n",
       "      <td>205.43</td>\n",
       "      <td>2021.0</td>\n",
       "      <td>4.0</td>\n",
       "      <td>20.0</td>\n",
       "      <td>12.0</td>\n",
       "      <td>23.0</td>\n",
       "      <td>53.0</td>\n",
       "      <td>...</td>\n",
       "      <td>90.684704</td>\n",
       "      <td>104.458109</td>\n",
       "      <td>146.10759</td>\n",
       "      <td>178.508389</td>\n",
       "      <td>0.837464</td>\n",
       "      <td>290.802503</td>\n",
       "      <td>2701.99073</td>\n",
       "      <td>167.792299</td>\n",
       "      <td>575.542321</td>\n",
       "      <td>0.156786</td>\n",
       "    </tr>\n",
       "    <tr>\n",
       "      <th>99993</th>\n",
       "      <td>18.0</td>\n",
       "      <td>4.300417e+15</td>\n",
       "      <td>4.949241e+15</td>\n",
       "      <td>151.49</td>\n",
       "      <td>2021.0</td>\n",
       "      <td>3.0</td>\n",
       "      <td>24.0</td>\n",
       "      <td>19.0</td>\n",
       "      <td>30.0</td>\n",
       "      <td>18.0</td>\n",
       "      <td>...</td>\n",
       "      <td>36.744704</td>\n",
       "      <td>50.518109</td>\n",
       "      <td>200.04759</td>\n",
       "      <td>124.568389</td>\n",
       "      <td>53.102536</td>\n",
       "      <td>344.742503</td>\n",
       "      <td>2755.93073</td>\n",
       "      <td>221.732299</td>\n",
       "      <td>629.482321</td>\n",
       "      <td>53.783214</td>\n",
       "    </tr>\n",
       "    <tr>\n",
       "      <th>99994</th>\n",
       "      <td>18.0</td>\n",
       "      <td>4.405008e+15</td>\n",
       "      <td>4.996896e+15</td>\n",
       "      <td>188.28</td>\n",
       "      <td>2021.0</td>\n",
       "      <td>3.0</td>\n",
       "      <td>8.0</td>\n",
       "      <td>19.0</td>\n",
       "      <td>51.0</td>\n",
       "      <td>10.0</td>\n",
       "      <td>...</td>\n",
       "      <td>73.534704</td>\n",
       "      <td>87.308109</td>\n",
       "      <td>163.25759</td>\n",
       "      <td>161.358389</td>\n",
       "      <td>16.312536</td>\n",
       "      <td>307.952503</td>\n",
       "      <td>2719.14073</td>\n",
       "      <td>184.942299</td>\n",
       "      <td>592.692321</td>\n",
       "      <td>16.993214</td>\n",
       "    </tr>\n",
       "    <tr>\n",
       "      <th>99995</th>\n",
       "      <td>18.0</td>\n",
       "      <td>4.262047e+15</td>\n",
       "      <td>4.017367e+15</td>\n",
       "      <td>204.26</td>\n",
       "      <td>2021.0</td>\n",
       "      <td>2.0</td>\n",
       "      <td>14.0</td>\n",
       "      <td>23.0</td>\n",
       "      <td>25.0</td>\n",
       "      <td>7.0</td>\n",
       "      <td>...</td>\n",
       "      <td>89.514704</td>\n",
       "      <td>103.288109</td>\n",
       "      <td>147.27759</td>\n",
       "      <td>177.338389</td>\n",
       "      <td>0.332536</td>\n",
       "      <td>291.972503</td>\n",
       "      <td>2703.16073</td>\n",
       "      <td>168.962299</td>\n",
       "      <td>576.712321</td>\n",
       "      <td>1.013214</td>\n",
       "    </tr>\n",
       "    <tr>\n",
       "      <th>99996</th>\n",
       "      <td>18.0</td>\n",
       "      <td>4.627517e+15</td>\n",
       "      <td>4.250421e+15</td>\n",
       "      <td>207.92</td>\n",
       "      <td>2021.0</td>\n",
       "      <td>4.0</td>\n",
       "      <td>14.0</td>\n",
       "      <td>0.0</td>\n",
       "      <td>42.0</td>\n",
       "      <td>0.0</td>\n",
       "      <td>...</td>\n",
       "      <td>93.174704</td>\n",
       "      <td>106.948109</td>\n",
       "      <td>143.61759</td>\n",
       "      <td>180.998389</td>\n",
       "      <td>3.327464</td>\n",
       "      <td>288.312503</td>\n",
       "      <td>2699.50073</td>\n",
       "      <td>165.302299</td>\n",
       "      <td>573.052321</td>\n",
       "      <td>2.646786</td>\n",
       "    </tr>\n",
       "  </tbody>\n",
       "</table>\n",
       "<p>99997 rows × 29 columns</p>\n",
       "</div>"
      ],
      "text/plain": [
       "       transaction_category   receiver_id     sender_id  amount    year  \\\n",
       "0                       0.0  4.518552e+15  4.333582e+15  833.26  2021.0   \n",
       "1                       0.0  4.518552e+15  4.642413e+15  596.63  2021.0   \n",
       "2                       0.0  4.274544e+15  4.952666e+15  176.76  2021.0   \n",
       "3                       0.0  4.518552e+15  4.457299e+15  879.78  2021.0   \n",
       "4                       0.0  4.601853e+15  4.578126e+15  742.25  2021.0   \n",
       "...                     ...           ...           ...     ...     ...   \n",
       "99992                  18.0  4.405008e+15  4.583356e+15  205.43  2021.0   \n",
       "99993                  18.0  4.300417e+15  4.949241e+15  151.49  2021.0   \n",
       "99994                  18.0  4.405008e+15  4.996896e+15  188.28  2021.0   \n",
       "99995                  18.0  4.262047e+15  4.017367e+15  204.26  2021.0   \n",
       "99996                  18.0  4.627517e+15  4.250421e+15  207.92  2021.0   \n",
       "\n",
       "       month   day  hour  minute  second  ...      9_dist     10_dist  \\\n",
       "0        3.0  10.0  19.0    57.0    42.0  ...  718.514704  732.288109   \n",
       "1        2.0  11.0  17.0    53.0    32.0  ...  481.884704  495.658109   \n",
       "2        2.0  21.0  18.0    29.0    32.0  ...   62.014704   75.788109   \n",
       "3        4.0   9.0  16.0    14.0    19.0  ...  765.034704  778.808109   \n",
       "4        4.0   4.0  15.0    50.0    16.0  ...  627.504704  641.278109   \n",
       "...      ...   ...   ...     ...     ...  ...         ...         ...   \n",
       "99992    4.0  20.0  12.0    23.0    53.0  ...   90.684704  104.458109   \n",
       "99993    3.0  24.0  19.0    30.0    18.0  ...   36.744704   50.518109   \n",
       "99994    3.0   8.0  19.0    51.0    10.0  ...   73.534704   87.308109   \n",
       "99995    2.0  14.0  23.0    25.0     7.0  ...   89.514704  103.288109   \n",
       "99996    4.0  14.0   0.0    42.0     0.0  ...   93.174704  106.948109   \n",
       "\n",
       "         11_dist     12_dist     13_dist     14_dist     15_dist     16_dist  \\\n",
       "0      481.72241  806.338389  628.667464  337.027497  2074.16073  460.037701   \n",
       "1      245.09241  569.708389  392.037464  100.397497  2310.79073  223.407701   \n",
       "2      174.77759  149.838389   27.832536  319.472503  2730.66073  196.462299   \n",
       "3      528.24241  852.858389  675.187464  383.547497  2027.64073  506.557701   \n",
       "4      390.71241  715.328389  537.657464  246.017497  2165.17073  369.027701   \n",
       "...          ...         ...         ...         ...         ...         ...   \n",
       "99992  146.10759  178.508389    0.837464  290.802503  2701.99073  167.792299   \n",
       "99993  200.04759  124.568389   53.102536  344.742503  2755.93073  221.732299   \n",
       "99994  163.25759  161.358389   16.312536  307.952503  2719.14073  184.942299   \n",
       "99995  147.27759  177.338389    0.332536  291.972503  2703.16073  168.962299   \n",
       "99996  143.61759  180.998389    3.327464  288.312503  2699.50073  165.302299   \n",
       "\n",
       "          17_dist     18_dist  \n",
       "0       52.287679  627.986786  \n",
       "1      184.342321  391.356786  \n",
       "2      604.212321   28.513214  \n",
       "3       98.807679  674.506786  \n",
       "4       38.722321  536.976786  \n",
       "...           ...         ...  \n",
       "99992  575.542321    0.156786  \n",
       "99993  629.482321   53.783214  \n",
       "99994  592.692321   16.993214  \n",
       "99995  576.712321    1.013214  \n",
       "99996  573.052321    2.646786  \n",
       "\n",
       "[99997 rows x 29 columns]"
      ]
     },
     "execution_count": 20,
     "metadata": {},
     "output_type": "execute_result"
    }
   ],
   "source": [
    "additional_features = pd.pivot_table(\n",
    "    feature_store_data, values=[\"mean_amount\"], index=[\"identifier\"]\n",
    ").T.add_suffix(\"_dist\")\n",
    "additional_features_columns = list(additional_features.columns)\n",
    "data = pd.concat([data, pd.DataFrame(columns=additional_features_columns, dtype=object)])\n",
    "data[additional_features_columns] = additional_features.values[0]\n",
    "for col in additional_features_columns:\n",
    "    data[col] = abs(data[col] - data[\"amount\"])\n",
    "\n",
    "data"
   ]
  },
  {
   "cell_type": "markdown",
   "metadata": {},
   "source": [
    "### 4. Create model <a class=\"anchor\" id=\"Create-model\"></a>\n",
    "In this notebook we will be using the [Extreme Gradient Boosting](https://docs.aws.amazon.com/sagemaker/latest/dg/xgboost.html) (XGBoost) implementation of the gradient boosted trees algorithm. This model is selected due to it relatively fast training time and explainable properties. The model can be substituted at will a different [SageMaker estimator](https://sagemaker.readthedocs.io/en/stable/api/training/estimators.html) or a [model of your choosing](https://aws.amazon.com/blogs/machine-learning/bring-your-own-model-with-amazon-sagemaker-script-mode/).\n",
    "\n",
    "\n",
    "\n",
    "Now that we have the dataset we can start preparing the model. First, we create a training, validation and testing split."
   ]
  },
  {
   "cell_type": "code",
   "execution_count": 21,
   "metadata": {},
   "outputs": [],
   "source": [
    "# Randomly sort the data then split out first 70%, second 20%, and last 10%\n",
    "train_data, validation_data, test_data = np.split(\n",
    "    data.sample(frac=1, random_state=42), [int(0.7 * len(data)), int(0.9 * len(data))]\n",
    ")"
   ]
  },
  {
   "cell_type": "markdown",
   "metadata": {},
   "source": [
    "We save these sets to a file."
   ]
  },
  {
   "cell_type": "code",
   "execution_count": 22,
   "metadata": {},
   "outputs": [],
   "source": [
    "train_data.to_csv(\"train.csv\", index=False, header=False)\n",
    "validation_data.to_csv(\"validation.csv\", index=False, header=False)\n",
    "test_data.to_csv(\"test.csv\", index=False, header=False)"
   ]
  },
  {
   "cell_type": "markdown",
   "metadata": {},
   "source": [
    "And upload these files to our s3 bucket"
   ]
  },
  {
   "cell_type": "code",
   "execution_count": 23,
   "metadata": {},
   "outputs": [],
   "source": [
    "boto3.Session().resource(\"s3\").Bucket(s3_bucket).Object(\n",
    "    os.path.join(bucket_prefix, \"train/train.csv\")\n",
    ").upload_file(\"train.csv\")\n",
    "boto3.Session().resource(\"s3\").Bucket(s3_bucket).Object(\n",
    "    os.path.join(bucket_prefix, \"validation/validation.csv\")\n",
    ").upload_file(\"validation.csv\")"
   ]
  },
  {
   "cell_type": "markdown",
   "metadata": {},
   "source": [
    "Get the XGBoost sagemaker image"
   ]
  },
  {
   "cell_type": "code",
   "execution_count": 24,
   "metadata": {},
   "outputs": [],
   "source": [
    "container = sagemaker.image_uris.retrieve(region=region, framework=\"xgboost\", version=\"1.2-2\")"
   ]
  },
  {
   "cell_type": "markdown",
   "metadata": {},
   "source": [
    "Transform our data to a sagemaker input for training"
   ]
  },
  {
   "cell_type": "code",
   "execution_count": 25,
   "metadata": {},
   "outputs": [],
   "source": [
    "s3_input_train = sagemaker.inputs.TrainingInput(\n",
    "    s3_data=\"s3://{}/{}/train\".format(s3_bucket, bucket_prefix), content_type=\"csv\"\n",
    ")\n",
    "s3_input_validation = sagemaker.inputs.TrainingInput(\n",
    "    s3_data=\"s3://{}/{}/validation/\".format(s3_bucket, bucket_prefix), content_type=\"csv\"\n",
    ")"
   ]
  },
  {
   "cell_type": "markdown",
   "metadata": {},
   "source": [
    "We define the XGBoost model"
   ]
  },
  {
   "cell_type": "code",
   "execution_count": 26,
   "metadata": {},
   "outputs": [],
   "source": [
    "xgb = sagemaker.estimator.Estimator(\n",
    "    container,\n",
    "    role,\n",
    "    instance_count=1,\n",
    "    instance_type=\"ml.m4.xlarge\",\n",
    "    output_path=\"s3://{}/{}/output\".format(s3_bucket, bucket_prefix),\n",
    "    sagemaker_session=sagemaker_session,\n",
    ")"
   ]
  },
  {
   "cell_type": "markdown",
   "metadata": {},
   "source": [
    "Set the parameters"
   ]
  },
  {
   "cell_type": "code",
   "execution_count": 27,
   "metadata": {},
   "outputs": [],
   "source": [
    "xgb.set_hyperparameters(\n",
    "    max_depth=5,\n",
    "    eta=0.2,\n",
    "    gamma=4,\n",
    "    min_child_weight=6,\n",
    "    subsample=0.8,\n",
    "    objective=\"multi:softprob\",\n",
    "    num_class=19,\n",
    "    verbosity=0,\n",
    "    num_round=100,\n",
    ")"
   ]
  },
  {
   "cell_type": "markdown",
   "metadata": {},
   "source": [
    "And train the model"
   ]
  },
  {
   "cell_type": "code",
   "execution_count": 28,
   "metadata": {},
   "outputs": [
    {
     "name": "stdout",
     "output_type": "stream",
     "text": [
      "2022-03-15 03:03:39 Starting - Starting the training job...\n",
      "2022-03-15 03:04:07 Starting - Preparing the instances for trainingProfilerReport-1647313419: InProgress\n",
      "............\n",
      "2022-03-15 03:06:10 Downloading - Downloading input data...\n",
      "2022-03-15 03:06:35 Training - Downloading the training image.........\n",
      "2022-03-15 03:08:05 Training - Training image download completed. Training in progress.\u001b[34m[2022-03-15 03:07:55.878 ip-10-2-143-46.ec2.internal:1 INFO utils.py:27] RULE_JOB_STOP_SIGNAL_FILENAME: None\u001b[0m\n",
      "\u001b[34m[2022-03-15:03:07:56:INFO] Imported framework sagemaker_xgboost_container.training\u001b[0m\n",
      "\u001b[34m[2022-03-15:03:07:56:INFO] Failed to parse hyperparameter objective value multi:softprob to Json.\u001b[0m\n",
      "\u001b[34mReturning the value itself\u001b[0m\n",
      "\u001b[34m[2022-03-15:03:07:56:INFO] No GPUs detected (normal if no gpus installed)\u001b[0m\n",
      "\u001b[34m[2022-03-15:03:07:56:INFO] Running XGBoost Sagemaker in algorithm mode\u001b[0m\n",
      "\u001b[34m[2022-03-15:03:07:56:INFO] Determined delimiter of CSV input is ','\u001b[0m\n",
      "\u001b[34m[2022-03-15:03:07:56:INFO] Determined delimiter of CSV input is ','\u001b[0m\n",
      "\u001b[34m[2022-03-15:03:07:56:INFO] Determined delimiter of CSV input is ','\u001b[0m\n",
      "\u001b[34m[2022-03-15:03:07:56:INFO] Determined delimiter of CSV input is ','\u001b[0m\n",
      "\u001b[34m[2022-03-15:03:07:56:INFO] Single node training.\u001b[0m\n",
      "\u001b[34m[2022-03-15:03:07:56:INFO] Train matrix has 69997 rows and 28 columns\u001b[0m\n",
      "\u001b[34m[2022-03-15:03:07:56:INFO] Validation matrix has 20000 rows\u001b[0m\n",
      "\u001b[34m[0]#011train-merror:0.54877#011validation-merror:0.56225\u001b[0m\n",
      "\u001b[34m[1]#011train-merror:0.52969#011validation-merror:0.54060\u001b[0m\n",
      "\u001b[34m[2]#011train-merror:0.51652#011validation-merror:0.53070\u001b[0m\n",
      "\u001b[34m[3]#011train-merror:0.50381#011validation-merror:0.51975\u001b[0m\n",
      "\u001b[34m[4]#011train-merror:0.49778#011validation-merror:0.51270\u001b[0m\n",
      "\u001b[34m[5]#011train-merror:0.49535#011validation-merror:0.51240\u001b[0m\n",
      "\u001b[34m[6]#011train-merror:0.49098#011validation-merror:0.50615\u001b[0m\n",
      "\u001b[34m[7]#011train-merror:0.48595#011validation-merror:0.50180\u001b[0m\n",
      "\u001b[34m[8]#011train-merror:0.47981#011validation-merror:0.49465\u001b[0m\n",
      "\u001b[34m[9]#011train-merror:0.47501#011validation-merror:0.48955\u001b[0m\n",
      "\u001b[34m[10]#011train-merror:0.47211#011validation-merror:0.48575\u001b[0m\n",
      "\u001b[34m[11]#011train-merror:0.46608#011validation-merror:0.48045\u001b[0m\n",
      "\u001b[34m[12]#011train-merror:0.46063#011validation-merror:0.47305\u001b[0m\n",
      "\u001b[34m[13]#011train-merror:0.45588#011validation-merror:0.46785\u001b[0m\n",
      "\u001b[34m[14]#011train-merror:0.45332#011validation-merror:0.46610\u001b[0m\n",
      "\u001b[34m[15]#011train-merror:0.44262#011validation-merror:0.45470\u001b[0m\n",
      "\u001b[34m[16]#011train-merror:0.43925#011validation-merror:0.45220\u001b[0m\n",
      "\u001b[34m[17]#011train-merror:0.43625#011validation-merror:0.44850\u001b[0m\n",
      "\u001b[34m[18]#011train-merror:0.43006#011validation-merror:0.44215\u001b[0m\n",
      "\u001b[34m[19]#011train-merror:0.42555#011validation-merror:0.43805\u001b[0m\n",
      "\u001b[34m[20]#011train-merror:0.42010#011validation-merror:0.43305\u001b[0m\n",
      "\u001b[34m[21]#011train-merror:0.41225#011validation-merror:0.42490\u001b[0m\n",
      "\u001b[34m[22]#011train-merror:0.40266#011validation-merror:0.41470\u001b[0m\n",
      "\u001b[34m[23]#011train-merror:0.39620#011validation-merror:0.40695\u001b[0m\n",
      "\u001b[34m[24]#011train-merror:0.38342#011validation-merror:0.39475\u001b[0m\n",
      "\u001b[34m[25]#011train-merror:0.37829#011validation-merror:0.38960\u001b[0m\n",
      "\u001b[34m[26]#011train-merror:0.37490#011validation-merror:0.38575\u001b[0m\n",
      "\u001b[34m[27]#011train-merror:0.37114#011validation-merror:0.38175\u001b[0m\n",
      "\u001b[34m[28]#011train-merror:0.36209#011validation-merror:0.37135\u001b[0m\n",
      "\u001b[34m[29]#011train-merror:0.35790#011validation-merror:0.36720\u001b[0m\n",
      "\u001b[34m[30]#011train-merror:0.34579#011validation-merror:0.35615\u001b[0m\n",
      "\u001b[34m[31]#011train-merror:0.34167#011validation-merror:0.35080\u001b[0m\n",
      "\u001b[34m[32]#011train-merror:0.33696#011validation-merror:0.34535\u001b[0m\n",
      "\u001b[34m[33]#011train-merror:0.33166#011validation-merror:0.33910\u001b[0m\n",
      "\u001b[34m[34]#011train-merror:0.32356#011validation-merror:0.33020\u001b[0m\n",
      "\u001b[34m[35]#011train-merror:0.31938#011validation-merror:0.32515\u001b[0m\n",
      "\u001b[34m[36]#011train-merror:0.31299#011validation-merror:0.31825\u001b[0m\n",
      "\u001b[34m[37]#011train-merror:0.30723#011validation-merror:0.31265\u001b[0m\n",
      "\u001b[34m[38]#011train-merror:0.30181#011validation-merror:0.30630\u001b[0m\n",
      "\u001b[34m[39]#011train-merror:0.29404#011validation-merror:0.29685\u001b[0m\n",
      "\u001b[34m[40]#011train-merror:0.28730#011validation-merror:0.29070\u001b[0m\n",
      "\u001b[34m[41]#011train-merror:0.27933#011validation-merror:0.28415\u001b[0m\n",
      "\u001b[34m[42]#011train-merror:0.27531#011validation-merror:0.28060\u001b[0m\n",
      "\u001b[34m[43]#011train-merror:0.26620#011validation-merror:0.27125\u001b[0m\n",
      "\u001b[34m[44]#011train-merror:0.26325#011validation-merror:0.26860\u001b[0m\n",
      "\u001b[34m[45]#011train-merror:0.25930#011validation-merror:0.26565\u001b[0m\n",
      "\u001b[34m[46]#011train-merror:0.25360#011validation-merror:0.25950\u001b[0m\n",
      "\u001b[34m[47]#011train-merror:0.24725#011validation-merror:0.25350\u001b[0m\n",
      "\u001b[34m[48]#011train-merror:0.24178#011validation-merror:0.24775\u001b[0m\n",
      "\u001b[34m[49]#011train-merror:0.23085#011validation-merror:0.23530\u001b[0m\n",
      "\u001b[34m[50]#011train-merror:0.22881#011validation-merror:0.23340\u001b[0m\n",
      "\u001b[34m[51]#011train-merror:0.22151#011validation-merror:0.22620\u001b[0m\n",
      "\u001b[34m[52]#011train-merror:0.21811#011validation-merror:0.22310\u001b[0m\n",
      "\u001b[34m[53]#011train-merror:0.21104#011validation-merror:0.21475\u001b[0m\n",
      "\u001b[34m[54]#011train-merror:0.20521#011validation-merror:0.20865\u001b[0m\n",
      "\u001b[34m[55]#011train-merror:0.19878#011validation-merror:0.20290\u001b[0m\n",
      "\u001b[34m[56]#011train-merror:0.19492#011validation-merror:0.19835\u001b[0m\n",
      "\u001b[34m[57]#011train-merror:0.18802#011validation-merror:0.19180\u001b[0m\n",
      "\u001b[34m[58]#011train-merror:0.18602#011validation-merror:0.19040\u001b[0m\n",
      "\u001b[34m[59]#011train-merror:0.18278#011validation-merror:0.18695\u001b[0m\n",
      "\u001b[34m[60]#011train-merror:0.17954#011validation-merror:0.18400\u001b[0m\n",
      "\u001b[34m[61]#011train-merror:0.17622#011validation-merror:0.18075\u001b[0m\n",
      "\u001b[34m[62]#011train-merror:0.17115#011validation-merror:0.17565\u001b[0m\n",
      "\u001b[34m[63]#011train-merror:0.16782#011validation-merror:0.17310\u001b[0m\n",
      "\u001b[34m[64]#011train-merror:0.16525#011validation-merror:0.17100\u001b[0m\n",
      "\u001b[34m[65]#011train-merror:0.16249#011validation-merror:0.16795\u001b[0m\n",
      "\u001b[34m[66]#011train-merror:0.16092#011validation-merror:0.16625\u001b[0m\n",
      "\u001b[34m[67]#011train-merror:0.15742#011validation-merror:0.16380\u001b[0m\n",
      "\u001b[34m[68]#011train-merror:0.15569#011validation-merror:0.16205\u001b[0m\n",
      "\u001b[34m[69]#011train-merror:0.15161#011validation-merror:0.15820\u001b[0m\n",
      "\u001b[34m[70]#011train-merror:0.14872#011validation-merror:0.15525\u001b[0m\n",
      "\u001b[34m[71]#011train-merror:0.14591#011validation-merror:0.15215\u001b[0m\n",
      "\u001b[34m[72]#011train-merror:0.14359#011validation-merror:0.14970\u001b[0m\n",
      "\u001b[34m[73]#011train-merror:0.14221#011validation-merror:0.14820\u001b[0m\n",
      "\u001b[34m[74]#011train-merror:0.13815#011validation-merror:0.14410\u001b[0m\n",
      "\u001b[34m[75]#011train-merror:0.13523#011validation-merror:0.14125\u001b[0m\n",
      "\u001b[34m[76]#011train-merror:0.13349#011validation-merror:0.13970\u001b[0m\n",
      "\u001b[34m[77]#011train-merror:0.13233#011validation-merror:0.13865\u001b[0m\n",
      "\u001b[34m[78]#011train-merror:0.13051#011validation-merror:0.13745\u001b[0m\n",
      "\u001b[34m[79]#011train-merror:0.12889#011validation-merror:0.13495\u001b[0m\n",
      "\u001b[34m[80]#011train-merror:0.12660#011validation-merror:0.13290\u001b[0m\n",
      "\u001b[34m[81]#011train-merror:0.12466#011validation-merror:0.13115\u001b[0m\n",
      "\u001b[34m[82]#011train-merror:0.12205#011validation-merror:0.12755\u001b[0m\n",
      "\u001b[34m[83]#011train-merror:0.12032#011validation-merror:0.12645\u001b[0m\n",
      "\u001b[34m[84]#011train-merror:0.11661#011validation-merror:0.12305\u001b[0m\n",
      "\u001b[34m[85]#011train-merror:0.11509#011validation-merror:0.12165\u001b[0m\n",
      "\u001b[34m[86]#011train-merror:0.11396#011validation-merror:0.12015\u001b[0m\n",
      "\u001b[34m[87]#011train-merror:0.11269#011validation-merror:0.11885\u001b[0m\n",
      "\u001b[34m[88]#011train-merror:0.11083#011validation-merror:0.11645\u001b[0m\n",
      "\u001b[34m[89]#011train-merror:0.10885#011validation-merror:0.11410\u001b[0m\n",
      "\u001b[34m[90]#011train-merror:0.10788#011validation-merror:0.11310\u001b[0m\n",
      "\u001b[34m[91]#011train-merror:0.10620#011validation-merror:0.11175\u001b[0m\n",
      "\u001b[34m[92]#011train-merror:0.10575#011validation-merror:0.11100\u001b[0m\n",
      "\u001b[34m[93]#011train-merror:0.10499#011validation-merror:0.11010\u001b[0m\n",
      "\u001b[34m[94]#011train-merror:0.10339#011validation-merror:0.10865\u001b[0m\n",
      "\u001b[34m[95]#011train-merror:0.10113#011validation-merror:0.10625\u001b[0m\n",
      "\n",
      "2022-03-15 03:11:17 Uploading - Uploading generated training model\u001b[34m[96]#011train-merror:0.09938#011validation-merror:0.10395\u001b[0m\n",
      "\u001b[34m[97]#011train-merror:0.09786#011validation-merror:0.10295\u001b[0m\n",
      "\u001b[34m[98]#011train-merror:0.09662#011validation-merror:0.10175\u001b[0m\n",
      "\u001b[34m[99]#011train-merror:0.09422#011validation-merror:0.09955\u001b[0m\n",
      "\n",
      "2022-03-15 03:11:46 Completed - Training job completed\n",
      "ProfilerReport-1647313419: NoIssuesFound\n",
      "Training seconds: 318\n",
      "Billable seconds: 318\n"
     ]
    }
   ],
   "source": [
    "xgb.fit({\"train\": s3_input_train, \"validation\": s3_input_validation})"
   ]
  },
  {
   "cell_type": "markdown",
   "metadata": {},
   "source": [
    "### 5. Using the endpoint <a class=\"anchor\" id=\"Using-the-endpoint\"></a>\n",
    "\n",
    "Deploy the model to an endpoint"
   ]
  },
  {
   "cell_type": "code",
   "execution_count": 29,
   "metadata": {},
   "outputs": [
    {
     "name": "stdout",
     "output_type": "stream",
     "text": [
      "-------!"
     ]
    }
   ],
   "source": [
    "xgb_predictor = xgb.deploy(\n",
    "    initial_instance_count=1,\n",
    "    instance_type=\"ml.m4.xlarge\",\n",
    "    serializer=sagemaker.serializers.CSVSerializer(),\n",
    ")"
   ]
  },
  {
   "cell_type": "markdown",
   "metadata": {},
   "source": [
    "### 6. Evaluate performance <a class=\"anchor\" id=\"Evaluate-performance\"></a>\n",
    "\n",
    "Run the model on our test data"
   ]
  },
  {
   "cell_type": "code",
   "execution_count": 30,
   "metadata": {},
   "outputs": [],
   "source": [
    "def predict(data, predictor):\n",
    "    predictions = []\n",
    "    confidences = []\n",
    "    for row in data:\n",
    "        response = np.fromstring(predictor.predict(row).decode(\"utf-8\")[1:], sep=\",\")\n",
    "        pred = response.argmax()\n",
    "        confidence = max(response)\n",
    "        predictions.extend([pred])\n",
    "        confidences.extend([confidence])\n",
    "\n",
    "    return predictions, confidences"
   ]
  },
  {
   "cell_type": "markdown",
   "metadata": {},
   "source": [
    "Running it on the first 3 rows in our dataset results in the following:"
   ]
  },
  {
   "cell_type": "code",
   "execution_count": 31,
   "metadata": {},
   "outputs": [
    {
     "name": "stdout",
     "output_type": "stream",
     "text": [
      "The predictions for the first 3 entries are [1, 1, 11], the confidence for these predictions are [0.5061870217323303, 0.5919070839881897, 0.658933162689209]\n"
     ]
    },
    {
     "name": "stderr",
     "output_type": "stream",
     "text": [
      "/home/ec2-user/anaconda3/envs/python3/lib/python3.6/site-packages/ipykernel/__main__.py:5: DeprecationWarning: string or file could not be read to its end due to unmatched data; this will raise a ValueError in the future.\n"
     ]
    }
   ],
   "source": [
    "pred, conf = predict(test_data.drop([\"transaction_category\"], axis=1).to_numpy()[:3], xgb_predictor)\n",
    "print(\n",
    "    f\"The predictions for the first 3 entries are {pred}, the confidence for these predictions are {conf}\"\n",
    ")"
   ]
  },
  {
   "cell_type": "markdown",
   "metadata": {},
   "source": [
    "Now we run the predictions on the complete dataset"
   ]
  },
  {
   "cell_type": "code",
   "execution_count": 32,
   "metadata": {},
   "outputs": [
    {
     "name": "stderr",
     "output_type": "stream",
     "text": [
      "/home/ec2-user/anaconda3/envs/python3/lib/python3.6/site-packages/ipykernel/__main__.py:5: DeprecationWarning: string or file could not be read to its end due to unmatched data; this will raise a ValueError in the future.\n"
     ]
    }
   ],
   "source": [
    "predictions, confidences = predict(\n",
    "    test_data.drop([\"transaction_category\"], axis=1).to_numpy(), xgb_predictor\n",
    ")"
   ]
  },
  {
   "cell_type": "markdown",
   "metadata": {},
   "source": [
    "And report the prediction results"
   ]
  },
  {
   "cell_type": "code",
   "execution_count": 33,
   "metadata": {},
   "outputs": [
    {
     "name": "stdout",
     "output_type": "stream",
     "text": [
      "                        precision    recall  f1-score   support\n",
      "\n",
      "         Uncategorized       1.00      0.92      0.96        51\n",
      "         Entertainment       0.81      0.89      0.85      1486\n",
      "             Education       1.00      0.94      0.97        80\n",
      "              Shopping       0.86      0.94      0.90      3441\n",
      "         Personal Care       1.00      0.98      0.99       132\n",
      "    Health and Fitness       0.99      0.89      0.94       443\n",
      "       Food and Dining       0.99      0.82      0.90       918\n",
      "   Gifts and Donations       1.00      0.95      0.97       275\n",
      "           Investments       0.99      0.97      0.98        88\n",
      "   Bills and Utilities       1.00      0.99      1.00       332\n",
      "    Auto and Transport       0.94      0.84      0.88      1967\n",
      "                Travel       0.96      0.84      0.90       120\n",
      "      Fees and Charges       1.00      0.94      0.97       106\n",
      "     Business Services       1.00      0.99      1.00       146\n",
      "     Personal Services       1.00      0.96      0.98        75\n",
      "                 Taxes       0.98      0.94      0.96        47\n",
      "              Gambling       1.00      1.00      1.00        15\n",
      "                  Home       0.98      0.89      0.93       168\n",
      "Pension and insurances       0.99      1.00      1.00       110\n",
      "\n",
      "              accuracy                           0.90     10000\n",
      "             macro avg       0.97      0.93      0.95     10000\n",
      "          weighted avg       0.91      0.90      0.90     10000\n",
      "\n"
     ]
    }
   ],
   "source": [
    "print(\n",
    "    classification_report(\n",
    "        test_data[\"transaction_category\"].to_list(), predictions, target_names=factorize_key\n",
    "    )\n",
    ")"
   ]
  }
 ],
 "metadata": {
  "instance_type": "ml.t3.medium",
  "kernelspec": {
   "display_name": "Python 3",
   "language": "python",
   "name": "python3"
  },
  "language_info": {
   "codemirror_mode": {
    "name": "ipython",
    "version": 3
   },
   "file_extension": ".py",
   "mimetype": "text/x-python",
   "name": "python",
   "nbconvert_exporter": "python",
   "pygments_lexer": "ipython3",
   "version": "3.8.5"
  }
 },
 "nbformat": 4,
 "nbformat_minor": 5
}
